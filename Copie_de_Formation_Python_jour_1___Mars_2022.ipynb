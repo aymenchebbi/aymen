{
  "nbformat": 4,
  "nbformat_minor": 0,
  "metadata": {
    "colab": {
      "name": "Copie de  Formation Python jour 1 _ Mars 2022.ipynb",
      "provenance": [],
      "collapsed_sections": [],
      "include_colab_link": true
    },
    "kernelspec": {
      "name": "python3",
      "display_name": "Python 3"
    },
    "language_info": {
      "name": "python"
    }
  },
  "cells": [
    {
      "cell_type": "markdown",
      "metadata": {
        "id": "view-in-github",
        "colab_type": "text"
      },
      "source": [
        "<a href=\"https://colab.research.google.com/github/aymenchebbi/aymen/blob/master/Copie_de_Formation_Python_jour_1___Mars_2022.ipynb\" target=\"_parent\"><img src=\"https://colab.research.google.com/assets/colab-badge.svg\" alt=\"Open In Colab\"/></a>"
      ]
    },
    {
      "cell_type": "markdown",
      "source": [
        "<font face=\"Comic Sans MS\" color=\"#4355d3\" size=6>Formation Python par la pratique - ESGITECH -"
      ],
      "metadata": {
        "id": "GhLjV73g-Aie"
      }
    },
    {
      "cell_type": "code",
      "source": [
        ""
      ],
      "metadata": {
        "id": "nLOaQoD35APk"
      },
      "execution_count": null,
      "outputs": []
    },
    {
      "cell_type": "code",
      "source": [
        ""
      ],
      "metadata": {
        "id": "V0VHTyUc090T"
      },
      "execution_count": null,
      "outputs": []
    },
    {
      "cell_type": "markdown",
      "source": [
        ""
      ],
      "metadata": {
        "id": "hDCJRW4h0-NL"
      }
    },
    {
      "cell_type": "markdown",
      "source": [
        ""
      ],
      "metadata": {
        "id": "Vw-FYmsV0_Up"
      }
    },
    {
      "cell_type": "code",
      "source": [
        ""
      ],
      "metadata": {
        "id": "LRvhlzI34oJD"
      },
      "execution_count": null,
      "outputs": []
    },
    {
      "cell_type": "markdown",
      "source": [
        "<font face=\"Comic Sans MS\" color=\"#C70039\" size=5>4 Variables et types de données"
      ],
      "metadata": {
        "id": "Hj_1_Dh5HYFF"
      }
    },
    {
      "cell_type": "code",
      "source": [
        ""
      ],
      "metadata": {
        "id": "czJRQFQW7Te_"
      },
      "execution_count": null,
      "outputs": []
    },
    {
      "cell_type": "markdown",
      "source": [
        "<font face=\"Comic Sans MS\" color=\"#900C3F\" size=4> Entiers et réels"
      ],
      "metadata": {
        "id": "2hjcMbuDHepz"
      }
    },
    {
      "cell_type": "code",
      "source": [
        ""
      ],
      "metadata": {
        "id": "z090-G0J7Xff"
      },
      "execution_count": null,
      "outputs": []
    },
    {
      "cell_type": "code",
      "source": [
        ""
      ],
      "metadata": {
        "id": "gTsZBXDS7YaW"
      },
      "execution_count": null,
      "outputs": []
    },
    {
      "cell_type": "markdown",
      "source": [
        "<font  color=\"#0000DD\" size=3>Déclaration des variables"
      ],
      "metadata": {
        "id": "QiyRZk9T9uuu"
      }
    },
    {
      "cell_type": "code",
      "execution_count": 1,
      "metadata": {
        "id": "NuWcCXj7G90u"
      },
      "outputs": [],
      "source": [
        "myint = 12321\n",
        "myfloat = 3.14"
      ]
    },
    {
      "cell_type": "code",
      "source": [
        "myint"
      ],
      "metadata": {
        "id": "VCZ6Tdy5CZ8B",
        "colab": {
          "base_uri": "https://localhost:8080/"
        },
        "outputId": "fc0633a2-54f3-46ef-cb86-3e379cc7997b"
      },
      "execution_count": 2,
      "outputs": [
        {
          "output_type": "execute_result",
          "data": {
            "text/plain": [
              "12321"
            ]
          },
          "metadata": {},
          "execution_count": 2
        }
      ]
    },
    {
      "cell_type": "markdown",
      "source": [
        "<font  color=\"#0000DD\" size=3> Savoir le type de la variable"
      ],
      "metadata": {
        "id": "U9pWWreSC_a4"
      }
    },
    {
      "cell_type": "code",
      "source": [
        "type(myfloat)"
      ],
      "metadata": {
        "id": "V2WmCdM0C-Pn",
        "colab": {
          "base_uri": "https://localhost:8080/"
        },
        "outputId": "fc4e9ee8-0e5e-4654-cdae-7e21193a4d25"
      },
      "execution_count": 3,
      "outputs": [
        {
          "output_type": "execute_result",
          "data": {
            "text/plain": [
              "float"
            ]
          },
          "metadata": {},
          "execution_count": 3
        }
      ]
    },
    {
      "cell_type": "markdown",
      "source": [
        "<font  color=\"#0000DD\" size=3>Affichage des variables"
      ],
      "metadata": {
        "id": "X0BXbmAWDF4f"
      }
    },
    {
      "cell_type": "code",
      "source": [
        "print(myint)"
      ],
      "metadata": {
        "id": "pU0PE0MKHvG0",
        "colab": {
          "base_uri": "https://localhost:8080/"
        },
        "outputId": "3f7fe7db-f8a9-4cb1-d73a-a4317b95ec76"
      },
      "execution_count": 4,
      "outputs": [
        {
          "output_type": "stream",
          "name": "stdout",
          "text": [
            "12321\n"
          ]
        }
      ]
    },
    {
      "cell_type": "markdown",
      "source": [
        "<font face=\"Comic Sans MS\" color=\"#900C3F\" size=4> Les collections de données"
      ],
      "metadata": {
        "id": "yKkaH1xcB_fI"
      }
    },
    {
      "cell_type": "markdown",
      "source": [
        "<font  color=\"#0000DD\" size=3>Les listes"
      ],
      "metadata": {
        "id": "mfGkwJVLDyHG"
      }
    },
    {
      "cell_type": "code",
      "source": [
        "mylist= [1,1,2,3.5,\"hello\",False,\"aymen\"]"
      ],
      "metadata": {
        "id": "MshcoKLwCCiB"
      },
      "execution_count": 6,
      "outputs": []
    },
    {
      "cell_type": "code",
      "source": [
        "print(mylist)"
      ],
      "metadata": {
        "id": "ET4fNv_mCELg",
        "colab": {
          "base_uri": "https://localhost:8080/"
        },
        "outputId": "7b21bae1-dff6-41d8-aa68-e61c4d893aed"
      },
      "execution_count": 7,
      "outputs": [
        {
          "output_type": "stream",
          "name": "stdout",
          "text": [
            "[1, 1, 2, 3.5, 'hello', False, 'aymen']\n"
          ]
        }
      ]
    },
    {
      "cell_type": "markdown",
      "source": [
        "Accéder à un élement de la liste"
      ],
      "metadata": {
        "id": "lof7ETW5G9lA"
      }
    },
    {
      "cell_type": "code",
      "source": [
        "mylist[6]"
      ],
      "metadata": {
        "id": "Cp4jQ27CHAYO",
        "colab": {
          "base_uri": "https://localhost:8080/",
          "height": 35
        },
        "outputId": "57fbbe28-294c-427f-a6e2-0f57a4cb5d8a"
      },
      "execution_count": 11,
      "outputs": [
        {
          "output_type": "execute_result",
          "data": {
            "text/plain": [
              "'aymen'"
            ],
            "application/vnd.google.colaboratory.intrinsic+json": {
              "type": "string"
            }
          },
          "metadata": {},
          "execution_count": 11
        }
      ]
    },
    {
      "cell_type": "markdown",
      "source": [
        "<font  color=\"#0000DD\" size=3> Les dictionnaires (clé : valeur)"
      ],
      "metadata": {
        "id": "tiMD79JjFVqe"
      }
    },
    {
      "cell_type": "markdown",
      "source": [
        "Déclarer un dictionaire de notes (Math: 15 , info: 18 , anglais: 16)"
      ],
      "metadata": {
        "id": "DGvWv6CbFcwq"
      }
    },
    {
      "cell_type": "code",
      "source": [
        "mesnotes = {\"Math\":15,\"info\":18,\"anglais\":16}"
      ],
      "metadata": {
        "id": "qSTqoeLbFU4G"
      },
      "execution_count": 12,
      "outputs": []
    },
    {
      "cell_type": "markdown",
      "source": [
        "Afficher la note de l'info"
      ],
      "metadata": {
        "id": "u1IeN5ixHGHf"
      }
    },
    {
      "cell_type": "code",
      "source": [
        "mesnotes[\"info\"]"
      ],
      "metadata": {
        "id": "jedp3L_YHJ9H",
        "colab": {
          "base_uri": "https://localhost:8080/"
        },
        "outputId": "0f21f35b-38fd-463a-d5cf-c46ac4e275f4"
      },
      "execution_count": 13,
      "outputs": [
        {
          "output_type": "execute_result",
          "data": {
            "text/plain": [
              "18"
            ]
          },
          "metadata": {},
          "execution_count": 13
        }
      ]
    },
    {
      "cell_type": "markdown",
      "source": [
        "<font  color=\"#0000DD\" size=3>Tuple"
      ],
      "metadata": {
        "id": "6KHqPMSUGCsW"
      }
    },
    {
      "cell_type": "markdown",
      "source": [
        "Déclarer l'adresse de l'école (36.832898, 10.302721)"
      ],
      "metadata": {
        "id": "VlZhYAcmF1dw"
      }
    },
    {
      "cell_type": "code",
      "source": [
        "t=(36.832898, 10.302721)\n",
        "type(t)"
      ],
      "metadata": {
        "id": "TXSuY0ljGFWX",
        "colab": {
          "base_uri": "https://localhost:8080/"
        },
        "outputId": "2cce809a-1efa-42c8-bea4-de8458e8bc7d"
      },
      "execution_count": 14,
      "outputs": [
        {
          "output_type": "execute_result",
          "data": {
            "text/plain": [
              "tuple"
            ]
          },
          "metadata": {},
          "execution_count": 14
        }
      ]
    },
    {
      "cell_type": "markdown",
      "source": [
        "<font  color=\"#0000DD\" size=3>Sets"
      ],
      "metadata": {
        "id": "hOKsZysXGw8w"
      }
    },
    {
      "cell_type": "code",
      "source": [
        "set(\"12366333987\")"
      ],
      "metadata": {
        "id": "myDRug3IIwN3",
        "colab": {
          "base_uri": "https://localhost:8080/"
        },
        "outputId": "63212aa3-691f-4d5e-aa44-5c0b5e9c7e8f"
      },
      "execution_count": 15,
      "outputs": [
        {
          "output_type": "execute_result",
          "data": {
            "text/plain": [
              "{'1', '2', '3', '6', '7', '8', '9'}"
            ]
          },
          "metadata": {},
          "execution_count": 15
        }
      ]
    },
    {
      "cell_type": "code",
      "source": [
        "lesCin={\"001\",102,103}\n"
      ],
      "metadata": {
        "id": "VbZgqJ5DGy8W"
      },
      "execution_count": 16,
      "outputs": []
    },
    {
      "cell_type": "markdown",
      "source": [
        "<font  color=\"#0000DD\" size=3>Covertion des types"
      ],
      "metadata": {
        "id": "gEZbVG0xKQTx"
      }
    },
    {
      "cell_type": "code",
      "source": [
        "num1 = \"22\"\n",
        "num2 = \"33\""
      ],
      "metadata": {
        "id": "WEs6plYZK-b-"
      },
      "execution_count": 17,
      "outputs": []
    },
    {
      "cell_type": "code",
      "source": [
        "print(num1 + num2)\n",
        "print(num1 * 2)"
      ],
      "metadata": {
        "id": "dVwYC-N2LIqJ",
        "colab": {
          "base_uri": "https://localhost:8080/"
        },
        "outputId": "cdc9026b-9bc7-45cb-d570-23f94abeafa2"
      },
      "execution_count": 18,
      "outputs": [
        {
          "output_type": "stream",
          "name": "stdout",
          "text": [
            "2233\n",
            "2222\n"
          ]
        }
      ]
    },
    {
      "cell_type": "code",
      "source": [
        "somme = int(num1)+int(num2)\n",
        "double_num1= int(num1) * 2\n",
        "print(somme)\n",
        "print(double_num1)"
      ],
      "metadata": {
        "id": "AFZz8yqFLMRf",
        "colab": {
          "base_uri": "https://localhost:8080/"
        },
        "outputId": "e3ffac54-333f-4f79-ce9c-da2588d4c65d"
      },
      "execution_count": 19,
      "outputs": [
        {
          "output_type": "stream",
          "name": "stdout",
          "text": [
            "55\n",
            "44\n"
          ]
        }
      ]
    },
    {
      "cell_type": "code",
      "source": [
        "str1= str(double_num1)\n",
        "\n",
        "type(somme)\n"
      ],
      "metadata": {
        "id": "mSaEbuMfKQi-",
        "colab": {
          "base_uri": "https://localhost:8080/"
        },
        "outputId": "8b3f5f7b-e9eb-4986-ba02-de2ba49fd370"
      },
      "execution_count": 21,
      "outputs": [
        {
          "output_type": "execute_result",
          "data": {
            "text/plain": [
              "int"
            ]
          },
          "metadata": {},
          "execution_count": 21
        }
      ]
    },
    {
      "cell_type": "markdown",
      "source": [
        "<font face=\"Comic Sans MS\" color=\"#C70039\" size=5>5 affichage et saisie des données"
      ],
      "metadata": {
        "id": "KnsRDxgsByKb"
      }
    },
    {
      "cell_type": "markdown",
      "source": [
        "<font  color=\"#0000DD\" size=3>Affichage de message de Bienvenue pour un nom quelconque (donné par l'utilisateur)"
      ],
      "metadata": {
        "id": "4qi_N5LCCQtx"
      }
    },
    {
      "cell_type": "code",
      "source": [
        "nom = input(\"donner votre nom\")"
      ],
      "metadata": {
        "id": "IvAzorLXCapQ",
        "colab": {
          "base_uri": "https://localhost:8080/"
        },
        "outputId": "92cf8410-2f75-4267-ca03-a559f2915dd9"
      },
      "execution_count": 23,
      "outputs": [
        {
          "name": "stdout",
          "output_type": "stream",
          "text": [
            "donner votre nom aymen\n"
          ]
        }
      ]
    },
    {
      "cell_type": "code",
      "source": [
        "print(\"Bienvenue\",nom)"
      ],
      "metadata": {
        "id": "4lBLp2dpKAKe",
        "colab": {
          "base_uri": "https://localhost:8080/"
        },
        "outputId": "238042d8-1680-4f47-c8d6-720191a4993b"
      },
      "execution_count": 24,
      "outputs": [
        {
          "output_type": "stream",
          "name": "stdout",
          "text": [
            "Bienvenue  aymen\n"
          ]
        }
      ]
    },
    {
      "cell_type": "markdown",
      "source": [
        "<font  color=\"#0000DD\" size=3>Remplir 2 variables age et nom par des valeurs, puis afficher une phrase comme l'exemple suivant: Salma a 20 ans"
      ],
      "metadata": {
        "id": "pwdkQTmyCFex"
      }
    },
    {
      "cell_type": "code",
      "source": [
        "nom = input(\"donner votre nom\")\n",
        "age = input(\"donner votre age\")\n",
        "print(nom, \"a\" ,age, \"ans\")"
      ],
      "metadata": {
        "id": "qQygsD0KCQlY",
        "colab": {
          "base_uri": "https://localhost:8080/"
        },
        "outputId": "780252bb-c294-4b78-9d49-ae13d8011727"
      },
      "execution_count": 25,
      "outputs": [
        {
          "output_type": "stream",
          "name": "stdout",
          "text": [
            "donner votre nom aymen\n",
            "donner votre age28\n",
            " aymen a 28 ans\n"
          ]
        }
      ]
    },
    {
      "cell_type": "markdown",
      "source": [
        "Tester le type de saisie"
      ],
      "metadata": {
        "id": "uYHjiGp4Lsp3"
      }
    },
    {
      "cell_type": "code",
      "source": [
        "type(age)"
      ],
      "metadata": {
        "colab": {
          "base_uri": "https://localhost:8080/"
        },
        "id": "Im1rzhAz_2KT",
        "outputId": "5fbb5d62-fde2-42ee-91d6-73fa3ddf4d85"
      },
      "execution_count": 26,
      "outputs": [
        {
          "output_type": "execute_result",
          "data": {
            "text/plain": [
              "str"
            ]
          },
          "metadata": {},
          "execution_count": 26
        }
      ]
    },
    {
      "cell_type": "markdown",
      "source": [
        "<font  color=\"#0000DD\" size=3>Ecrire un code qui affiche le multiple d'une donnnée saisie par l'utilisateur"
      ],
      "metadata": {
        "id": "5Wkgf-TbKLvc"
      }
    },
    {
      "cell_type": "code",
      "source": [
        "n = input(\"donner un entier\")\n",
        "n= int(n)\n",
        "print(n*2)"
      ],
      "metadata": {
        "id": "aNS9XX4rK4yO",
        "colab": {
          "base_uri": "https://localhost:8080/"
        },
        "outputId": "c301bcd7-4ac2-407d-80d4-9a3729621412"
      },
      "execution_count": 27,
      "outputs": [
        {
          "output_type": "stream",
          "name": "stdout",
          "text": [
            "donner un entier 5\n",
            "10\n"
          ]
        }
      ]
    },
    {
      "cell_type": "markdown",
      "source": [
        "<font  color=\"#0000DD\" size=3> Ecriture formatée"
      ],
      "metadata": {
        "id": "JGGm6fMTM6i1"
      }
    },
    {
      "cell_type": "code",
      "source": [
        "print(f\"l'etudiant {nom} a {age} ans\")"
      ],
      "metadata": {
        "id": "1rk9eIQSNiI-",
        "colab": {
          "base_uri": "https://localhost:8080/"
        },
        "outputId": "7b5897ec-c6f7-48a3-a6a5-47b082b6eeb7"
      },
      "execution_count": 28,
      "outputs": [
        {
          "output_type": "stream",
          "name": "stdout",
          "text": [
            "l'etudiant  aymen a 28 ans\n"
          ]
        }
      ]
    },
    {
      "cell_type": "markdown",
      "source": [
        "<font face=\"Comic Sans MS\" color=\"#C70039\" size=5>6 opérations sur les données"
      ],
      "metadata": {
        "id": "3SeuZksoCcYo"
      }
    },
    {
      "cell_type": "markdown",
      "source": [
        "<font  color=\"#0000DD\" size=3> Afficher la somme de deux entiers"
      ],
      "metadata": {
        "id": "D6sli-hKL9h5"
      }
    },
    {
      "cell_type": "code",
      "source": [
        "print(5+2)"
      ],
      "metadata": {
        "id": "MiCl_xS8MMzJ",
        "colab": {
          "base_uri": "https://localhost:8080/"
        },
        "outputId": "f7d25d1f-b3cb-4d62-9d39-67c63a0336c5"
      },
      "execution_count": 29,
      "outputs": [
        {
          "output_type": "stream",
          "name": "stdout",
          "text": [
            "7\n"
          ]
        }
      ]
    },
    {
      "cell_type": "markdown",
      "source": [
        "<font color=\"#0000DD\" size=3> Tester les opérations suivantes:<br>\n",
        "a=1\n",
        "<br>\n",
        "b=2\n",
        "<br>\n",
        "c=(a+b)**2"
      ],
      "metadata": {
        "id": "uCoEZRjpMWcB"
      }
    },
    {
      "cell_type": "code",
      "source": [
        "a=1\n",
        "b=2\n",
        "c=(a+b)**2\n",
        "print(c)"
      ],
      "metadata": {
        "id": "nFWv6gqJMPgS",
        "colab": {
          "base_uri": "https://localhost:8080/"
        },
        "outputId": "bf5343b9-1a9d-44cf-97f0-66985c142f87"
      },
      "execution_count": 32,
      "outputs": [
        {
          "output_type": "stream",
          "name": "stdout",
          "text": [
            "9\n"
          ]
        }
      ]
    },
    {
      "cell_type": "markdown",
      "source": [
        "<font  color=\"#0000DD\" size=3> Découvrir les roles des opérateurs % et //:<br>\n",
        "5 // 2\n",
        "<br>\n",
        "5 % 2"
      ],
      "metadata": {
        "id": "lRUvf9JOMxH6"
      }
    },
    {
      "cell_type": "code",
      "source": [
        "print(5//2)\n",
        "print(5%2)"
      ],
      "metadata": {
        "id": "GkwswFCUM9Jg",
        "colab": {
          "base_uri": "https://localhost:8080/"
        },
        "outputId": "2b7e2028-95cc-4ed6-baa7-32cb2950542f"
      },
      "execution_count": 33,
      "outputs": [
        {
          "output_type": "stream",
          "name": "stdout",
          "text": [
            "2\n",
            "1\n"
          ]
        }
      ]
    },
    {
      "cell_type": "markdown",
      "source": [
        "<font  color=\"#0000DD\" size=3> Minimum et maximum"
      ],
      "metadata": {
        "id": "W6OxLR5qNHin"
      }
    },
    {
      "cell_type": "code",
      "source": [
        "tup= (1,5,6,99,12)\n",
        "s = {2,5,6,99,12}\n",
        "list_n=[9,20,36,89,2]"
      ],
      "metadata": {
        "id": "boumv1KANNgQ"
      },
      "execution_count": 34,
      "outputs": []
    },
    {
      "cell_type": "code",
      "source": [
        "print(max(tup))\n",
        "print(min(tup))\n",
        "print(max(s))\n",
        "print(min(s))\n",
        "print(max(list_n))\n",
        "print(min(list_n))\n"
      ],
      "metadata": {
        "id": "gj-6fZv7NQxX",
        "colab": {
          "base_uri": "https://localhost:8080/"
        },
        "outputId": "b053e42c-44b1-46fd-dbb9-5395a99cd7f9"
      },
      "execution_count": 37,
      "outputs": [
        {
          "output_type": "stream",
          "name": "stdout",
          "text": [
            "99\n",
            "1\n",
            "99\n",
            "2\n",
            "89\n",
            "2\n"
          ]
        }
      ]
    },
    {
      "cell_type": "markdown",
      "source": [
        "<font  color=\"#0000DD\" size=3> Opérations sur les chaines de caractères"
      ],
      "metadata": {
        "id": "prJ1eKg0Hs6r"
      }
    },
    {
      "cell_type": "code",
      "source": [
        "my_string = \"Bonjour\""
      ],
      "metadata": {
        "id": "yiD4V2pdIGZl"
      },
      "execution_count": 38,
      "outputs": []
    },
    {
      "cell_type": "markdown",
      "source": [
        " upper() Transformer en majuscule "
      ],
      "metadata": {
        "id": "OJN-qJY5IHBr"
      }
    },
    {
      "cell_type": "code",
      "source": [
        "my_string = my_string.upper()\n",
        "print(my_string)"
      ],
      "metadata": {
        "id": "fX43Wrl7ILA0",
        "colab": {
          "base_uri": "https://localhost:8080/"
        },
        "outputId": "43f98267-d08c-4f48-c73e-e1f77d560e7a"
      },
      "execution_count": 40,
      "outputs": [
        {
          "output_type": "stream",
          "name": "stdout",
          "text": [
            "BONJOUR\n"
          ]
        }
      ]
    },
    {
      "cell_type": "markdown",
      "source": [
        "Savoir la longueur "
      ],
      "metadata": {
        "id": "HIm4JURiIMPb"
      }
    },
    {
      "cell_type": "code",
      "source": [
        "print(len(my_string))"
      ],
      "metadata": {
        "id": "OTger3YHIPj1",
        "colab": {
          "base_uri": "https://localhost:8080/"
        },
        "outputId": "55b91b96-60e9-4d8e-bbeb-ae007a02cd5e"
      },
      "execution_count": 42,
      "outputs": [
        {
          "output_type": "stream",
          "name": "stdout",
          "text": [
            "7\n"
          ]
        }
      ]
    },
    {
      "cell_type": "markdown",
      "source": [
        "find() renvoie l'index de la première instance de la chaîne à l'intérieur, sinon -1"
      ],
      "metadata": {
        "id": "KgfVudp3JUe8"
      }
    },
    {
      "cell_type": "code",
      "source": [
        "my_string.find(\"JOUR\")"
      ],
      "metadata": {
        "id": "XpaTBwDtJFTE",
        "colab": {
          "base_uri": "https://localhost:8080/"
        },
        "outputId": "368214bb-bb6f-487e-952a-92e5ce9a42e3"
      },
      "execution_count": 43,
      "outputs": [
        {
          "output_type": "execute_result",
          "data": {
            "text/plain": [
              "3"
            ]
          },
          "metadata": {},
          "execution_count": 43
        }
      ]
    },
    {
      "cell_type": "markdown",
      "source": [
        "replace() remplace toute instance de la première chaîne par la seconde"
      ],
      "metadata": {
        "id": "0dZS5cB3LtjO"
      }
    },
    {
      "cell_type": "code",
      "source": [
        "newstr = my_string.replace(\"jour\",\"soir\")\n",
        "print(newstr)"
      ],
      "metadata": {
        "id": "ObTkK8DmPQj5",
        "colab": {
          "base_uri": "https://localhost:8080/"
        },
        "outputId": "0e1324d7-e1b6-4d9b-d66f-ba371e4b72f3"
      },
      "execution_count": 47,
      "outputs": [
        {
          "output_type": "stream",
          "name": "stdout",
          "text": [
            "BONJOUR\n"
          ]
        }
      ]
    },
    {
      "cell_type": "markdown",
      "source": [
        "Séparer les elements d'une chaine"
      ],
      "metadata": {
        "id": "pgHGZEEGLhzI"
      }
    },
    {
      "cell_type": "code",
      "source": [
        "Texte= \"Langage Python\""
      ],
      "metadata": {
        "id": "TakbInKb59gy"
      },
      "execution_count": 48,
      "outputs": []
    },
    {
      "cell_type": "code",
      "source": [
        "newstr= Texte.split()\n",
        "print(newstr)"
      ],
      "metadata": {
        "id": "jLyYG-xf-UCW",
        "colab": {
          "base_uri": "https://localhost:8080/"
        },
        "outputId": "5568d7a4-62ac-4059-a9cb-34c1f83ec7bd"
      },
      "execution_count": 49,
      "outputs": [
        {
          "output_type": "stream",
          "name": "stdout",
          "text": [
            "['Langage', 'Python']\n"
          ]
        }
      ]
    },
    {
      "cell_type": "markdown",
      "source": [
        "Type de newstr ?"
      ],
      "metadata": {
        "id": "hM5kBrs7VWre"
      }
    },
    {
      "cell_type": "code",
      "source": [
        "type(newstr)"
      ],
      "metadata": {
        "colab": {
          "base_uri": "https://localhost:8080/"
        },
        "id": "avHLW7MbEUvQ",
        "outputId": "133851dc-8148-4388-c775-a5d9eee15a9b"
      },
      "execution_count": 51,
      "outputs": [
        {
          "output_type": "execute_result",
          "data": {
            "text/plain": [
              "list"
            ]
          },
          "metadata": {},
          "execution_count": 51
        }
      ]
    },
    {
      "cell_type": "markdown",
      "source": [
        "Slicing"
      ],
      "metadata": {
        "id": "EM1V2naJ50Wx"
      }
    },
    {
      "cell_type": "markdown",
      "source": [
        "![py.PNG](data:image/png;base64,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)"
      ],
      "metadata": {
        "id": "n3EDUhCyRTBM"
      }
    },
    {
      "cell_type": "code",
      "source": [
        "Texte[1]"
      ],
      "metadata": {
        "id": "OWas4Meb6073",
        "colab": {
          "base_uri": "https://localhost:8080/",
          "height": 35
        },
        "outputId": "1b6d0c46-2586-44a5-ed3e-f429eb81a3f1"
      },
      "execution_count": 52,
      "outputs": [
        {
          "output_type": "execute_result",
          "data": {
            "text/plain": [
              "'a'"
            ],
            "application/vnd.google.colaboratory.intrinsic+json": {
              "type": "string"
            }
          },
          "metadata": {},
          "execution_count": 52
        }
      ]
    },
    {
      "cell_type": "code",
      "source": [
        "Texte[1:4]"
      ],
      "metadata": {
        "id": "H38EyJK1VtZS",
        "colab": {
          "base_uri": "https://localhost:8080/",
          "height": 35
        },
        "outputId": "351eb0d0-f6e5-4f6f-bf4d-072549edbd54"
      },
      "execution_count": 54,
      "outputs": [
        {
          "output_type": "execute_result",
          "data": {
            "text/plain": [
              "'ang'"
            ],
            "application/vnd.google.colaboratory.intrinsic+json": {
              "type": "string"
            }
          },
          "metadata": {},
          "execution_count": 54
        }
      ]
    },
    {
      "cell_type": "markdown",
      "source": [
        "![pii.PNG](data:image/png;base64,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)"
      ],
      "metadata": {
        "id": "CNLOx6ylRx9U"
      }
    },
    {
      "cell_type": "code",
      "source": [
        "Texte[::2]"
      ],
      "metadata": {
        "id": "fvGul20c6aon",
        "colab": {
          "base_uri": "https://localhost:8080/",
          "height": 35
        },
        "outputId": "64ab77f2-02a5-4813-8879-50890905c658"
      },
      "execution_count": 55,
      "outputs": [
        {
          "output_type": "execute_result",
          "data": {
            "text/plain": [
              "'LnaePto'"
            ],
            "application/vnd.google.colaboratory.intrinsic+json": {
              "type": "string"
            }
          },
          "metadata": {},
          "execution_count": 55
        }
      ]
    },
    {
      "cell_type": "markdown",
      "source": [
        "<font  color=\"#0000DD\" size=3> Opérations sur les listes"
      ],
      "metadata": {
        "id": "y2sfpg5xnn6d"
      }
    },
    {
      "cell_type": "code",
      "source": [
        "liste1 = [2011,2014,2016,2018,2020,2022]"
      ],
      "metadata": {
        "id": "26ebcS90n6n1"
      },
      "execution_count": 85,
      "outputs": []
    },
    {
      "cell_type": "code",
      "source": [
        "liste2 = [5,8,10,14,18,20]"
      ],
      "metadata": {
        "id": "LyBcGPb4oFZH"
      },
      "execution_count": 86,
      "outputs": []
    },
    {
      "cell_type": "code",
      "source": [
        "liste3 = liste1 + liste2\n",
        "print(liste3)"
      ],
      "metadata": {
        "id": "co8PaZ56oKMr",
        "colab": {
          "base_uri": "https://localhost:8080/"
        },
        "outputId": "6a3e42b3-4fff-44c9-ff1b-75e2f6078a44"
      },
      "execution_count": 58,
      "outputs": [
        {
          "output_type": "stream",
          "name": "stdout",
          "text": [
            "[2011, 2014, 2016, 2018, 2020, 2022, 5, 8, 10, 14, 18, 20]\n"
          ]
        }
      ]
    },
    {
      "cell_type": "markdown",
      "source": [
        "Etendre la liste 1 par les éléments de la liste 2"
      ],
      "metadata": {
        "id": "7UO5CTp5ef3b"
      }
    },
    {
      "cell_type": "code",
      "source": [
        "liste1.extend(liste2)\n",
        "liste1\n"
      ],
      "metadata": {
        "id": "tRUtuhhLoW7c",
        "colab": {
          "base_uri": "https://localhost:8080/"
        },
        "outputId": "e6098817-e866-43d3-85e8-c396be73ce6f"
      },
      "execution_count": 59,
      "outputs": [
        {
          "output_type": "execute_result",
          "data": {
            "text/plain": [
              "[2011, 2014, 2016, 2018, 2020, 2022, 5, 8, 10, 14, 18, 20]"
            ]
          },
          "metadata": {},
          "execution_count": 59
        }
      ]
    },
    {
      "cell_type": "markdown",
      "source": [
        "Ajout de la liste 2 comme element dans la liste 1 "
      ],
      "metadata": {
        "id": "hp9pDZK1ey4j"
      }
    },
    {
      "cell_type": "code",
      "source": [
        "liste2.append(25)\n",
        "print(liste2)"
      ],
      "metadata": {
        "id": "f05DO4hiezQA",
        "colab": {
          "base_uri": "https://localhost:8080/"
        },
        "outputId": "92d1b440-d4d7-4966-959f-c23ed3f293c2"
      },
      "execution_count": 70,
      "outputs": [
        {
          "output_type": "stream",
          "name": "stdout",
          "text": [
            "[5, 8, 10, 14, 18, 20, 25]\n"
          ]
        }
      ]
    },
    {
      "cell_type": "markdown",
      "source": [
        "Créer une liste de 2 listes précedentes "
      ],
      "metadata": {
        "id": "IlovSY0OfCUI"
      }
    },
    {
      "cell_type": "code",
      "source": [
        "matrice = [[1,2,3],[4,5,6]]\n",
        "print(matrice)"
      ],
      "metadata": {
        "id": "FFi8ePa3o1n2",
        "colab": {
          "base_uri": "https://localhost:8080/"
        },
        "outputId": "b0c6a0d0-0c92-40a9-f52d-495a40830223"
      },
      "execution_count": 74,
      "outputs": [
        {
          "output_type": "stream",
          "name": "stdout",
          "text": [
            "[[1, 2, 3], [4, 5, 6]]\n"
          ]
        }
      ]
    },
    {
      "cell_type": "markdown",
      "source": [
        "Somme des elements d'une liste"
      ],
      "metadata": {
        "id": "Q2d_-89RfKkA"
      }
    },
    {
      "cell_type": "code",
      "source": [
        "sum(liste2)"
      ],
      "metadata": {
        "id": "pX2aypJsqWjm",
        "colab": {
          "base_uri": "https://localhost:8080/"
        },
        "outputId": "f73cd942-8a72-44ae-e012-70a325859ac6"
      },
      "execution_count": 75,
      "outputs": [
        {
          "output_type": "execute_result",
          "data": {
            "text/plain": [
              "75"
            ]
          },
          "metadata": {},
          "execution_count": 75
        }
      ]
    },
    {
      "cell_type": "markdown",
      "source": [
        "Ordonner les éléments d'une liste"
      ],
      "metadata": {
        "id": "QqrtganNfO8Q"
      }
    },
    {
      "cell_type": "code",
      "source": [
        "liste2.sort()\n",
        "liste2"
      ],
      "metadata": {
        "id": "e-JIDsuUqeoe",
        "colab": {
          "base_uri": "https://localhost:8080/"
        },
        "outputId": "045085ed-e7f3-4ee8-a58d-961bf8e1d091"
      },
      "execution_count": 77,
      "outputs": [
        {
          "output_type": "execute_result",
          "data": {
            "text/plain": [
              "[5, 8, 10, 14, 18, 20]"
            ]
          },
          "metadata": {},
          "execution_count": 77
        }
      ]
    },
    {
      "cell_type": "markdown",
      "source": [
        "Supprimer un element de la liste"
      ],
      "metadata": {
        "id": "nepl_7wffcsR"
      }
    },
    {
      "cell_type": "code",
      "source": [
        "liste2.pop()\n",
        "liste2"
      ],
      "metadata": {
        "id": "q9y9-PiArsRj",
        "colab": {
          "base_uri": "https://localhost:8080/"
        },
        "outputId": "5941c33d-92f7-46f0-8a73-5306a7f1f8a2"
      },
      "execution_count": 79,
      "outputs": [
        {
          "output_type": "execute_result",
          "data": {
            "text/plain": [
              "[5, 8, 10, 14]"
            ]
          },
          "metadata": {},
          "execution_count": 79
        }
      ]
    },
    {
      "cell_type": "code",
      "source": [
        "del liste2[1]\n",
        "print(liste2)"
      ],
      "metadata": {
        "colab": {
          "base_uri": "https://localhost:8080/"
        },
        "id": "_y7QfIIdILfR",
        "outputId": "7854bc60-ca89-4450-c5de-924bf455b100"
      },
      "execution_count": 80,
      "outputs": [
        {
          "output_type": "stream",
          "name": "stdout",
          "text": [
            "[5, 10, 14]\n"
          ]
        }
      ]
    },
    {
      "cell_type": "markdown",
      "source": [
        "Copier une liste "
      ],
      "metadata": {
        "id": "HIWl6K0bfhk5"
      }
    },
    {
      "cell_type": "code",
      "source": [
        "l2 = liste1[:]\n",
        "print(l2)"
      ],
      "metadata": {
        "colab": {
          "base_uri": "https://localhost:8080/"
        },
        "id": "3VL3VhP4sBF_",
        "outputId": "c88bef1a-568b-4ca5-f4c4-d5a1e98150ff"
      },
      "execution_count": 81,
      "outputs": [
        {
          "output_type": "stream",
          "name": "stdout",
          "text": [
            "[2011, 2014, 2016, 2018, 2020, 2022]\n"
          ]
        }
      ]
    },
    {
      "cell_type": "code",
      "source": [
        "print(liste1)\n",
        "print(liste2)"
      ],
      "metadata": {
        "colab": {
          "base_uri": "https://localhost:8080/"
        },
        "id": "3ICXG9elI3Ht",
        "outputId": "d16da748-f5f7-4320-994a-6d26df5d78c3"
      },
      "execution_count": 87,
      "outputs": [
        {
          "output_type": "stream",
          "name": "stdout",
          "text": [
            "[2011, 2014, 2016, 2018, 2020, 2022]\n",
            "[5, 8, 10, 14, 18, 20]\n"
          ]
        }
      ]
    },
    {
      "cell_type": "markdown",
      "source": [
        "On considère liste2 comme la liste d'évolution du nombre des employés dans une entreprise et liste1 contient les années correspondantes. Afficher l'évolution du nombre d'employés durant ces années"
      ],
      "metadata": {
        "id": "PTWsPAhG7P10"
      }
    },
    {
      "cell_type": "code",
      "source": [
        "from matplotlib import pyplot as plt\n",
        "plt.plot(liste1,liste2)\n",
        "plt.show()"
      ],
      "metadata": {
        "id": "uctPGU9L7QPA",
        "colab": {
          "base_uri": "https://localhost:8080/",
          "height": 265
        },
        "outputId": "2a4fdec1-9aab-437c-b36e-20fd083dd88c"
      },
      "execution_count": 89,
      "outputs": [
        {
          "output_type": "display_data",
          "data": {
            "text/plain": [
              "<Figure size 432x288 with 1 Axes>"
            ],
            "image/png": "[encoded data removed]"
          },
          "metadata": {
            "needs_background": "light"
          }
        }
      ]
    },
    {
      "cell_type": "markdown",
      "source": [
        "<font  color=\"#0000DD\" size=3> Opérations sur les dictionaires"
      ],
      "metadata": {
        "id": "rhatWSKSrkCd"
      }
    },
    {
      "cell_type": "code",
      "source": [
        "mesinfos = {\"nom\": \"imen\", \"formation\": \"python\", \"mois\":3 }"
      ],
      "metadata": {
        "id": "Mm-_uqTukatf"
      },
      "execution_count": 90,
      "outputs": []
    },
    {
      "cell_type": "markdown",
      "source": [
        "Afficher la valeur du clé formation"
      ],
      "metadata": {
        "id": "Nvx9WDBKk-T-"
      }
    },
    {
      "cell_type": "code",
      "source": [
        "mesinfos[\"formation\"]"
      ],
      "metadata": {
        "id": "7hk2ZtRclEoA",
        "colab": {
          "base_uri": "https://localhost:8080/",
          "height": 35
        },
        "outputId": "651249c0-78e3-4e2b-fe34-57eb312c73ec"
      },
      "execution_count": 92,
      "outputs": [
        {
          "output_type": "execute_result",
          "data": {
            "text/plain": [
              "'python'"
            ],
            "application/vnd.google.colaboratory.intrinsic+json": {
              "type": "string"
            }
          },
          "metadata": {},
          "execution_count": 92
        }
      ]
    },
    {
      "cell_type": "markdown",
      "source": [
        "Lister les clés du dictionaire"
      ],
      "metadata": {
        "id": "P10mjEH7kYfC"
      }
    },
    {
      "cell_type": "code",
      "source": [
        "print(mesinfos.keys())"
      ],
      "metadata": {
        "id": "_7UyG2uSkxoJ",
        "colab": {
          "base_uri": "https://localhost:8080/"
        },
        "outputId": "9a7aae3f-3298-4ae5-b46a-37b39d9e9b14"
      },
      "execution_count": 93,
      "outputs": [
        {
          "output_type": "stream",
          "name": "stdout",
          "text": [
            "dict_keys(['nom', 'formation', 'mois'])\n"
          ]
        }
      ]
    },
    {
      "cell_type": "markdown",
      "source": [
        "Transformer le résultat en une liste"
      ],
      "metadata": {
        "id": "AXhGgbFrk2RB"
      }
    },
    {
      "cell_type": "code",
      "source": [
        "list_keys = list(mesinfos.keys())\n",
        "print(list_keys)\n"
      ],
      "metadata": {
        "id": "gfikSBVVrrQE",
        "colab": {
          "base_uri": "https://localhost:8080/"
        },
        "outputId": "0a294b5d-ed5e-4cd9-a6f0-fda64c75e736"
      },
      "execution_count": 94,
      "outputs": [
        {
          "output_type": "stream",
          "name": "stdout",
          "text": [
            "['nom', 'formation', 'mois']\n"
          ]
        }
      ]
    },
    {
      "cell_type": "code",
      "source": [
        "list_valeurs = list(mesinfos.values())\n",
        "print(list_valeurs)"
      ],
      "metadata": {
        "colab": {
          "base_uri": "https://localhost:8080/"
        },
        "id": "46toXQZhK4uD",
        "outputId": "e11dbc37-9300-480f-9f9d-678dc03de244"
      },
      "execution_count": 95,
      "outputs": [
        {
          "output_type": "stream",
          "name": "stdout",
          "text": [
            "['imen', 'python', 3]\n"
          ]
        }
      ]
    },
    {
      "cell_type": "markdown",
      "source": [
        "<font face=\"Comic Sans MS\" color=\"#C70039\" size=5> 8  Les boucles et les structures conditionnelles"
      ],
      "metadata": {
        "id": "cD2fxQsWEn4X"
      }
    },
    {
      "cell_type": "markdown",
      "source": [
        "Ecriver un code qui permet de comparer deux entiers saisies par l'utilisateur"
      ],
      "metadata": {
        "id": "bobUTjfCmdX7"
      }
    },
    {
      "cell_type": "code",
      "source": [
        "n1 = int(input(\"donner un entier \"))\n",
        "n2 = int(input(\"donner un entier \"))\n",
        "\n",
        "if n1 > n2 :\n",
        "  print(f\"l'entier {n1} est superieur a {n2}\")\n",
        "elif n1 == n2 :\n",
        "  print(f\"l'entier {n1} est egal a {n2}\")\n",
        "else :\n",
        "  print(f\"l'entier {n2} est superieur a {n1}\")"
      ],
      "metadata": {
        "id": "-CU4ey0Imj9f",
        "colab": {
          "base_uri": "https://localhost:8080/"
        },
        "outputId": "97176842-5c1d-4638-c257-2a4ccc936aa8"
      },
      "execution_count": 97,
      "outputs": [
        {
          "output_type": "stream",
          "name": "stdout",
          "text": [
            "donner un entier 3\n",
            "donner un entier 3\n",
            "l'entier 3 est egal a 3\n"
          ]
        }
      ]
    },
    {
      "cell_type": "markdown",
      "source": [
        "Remplir une liste par des entiers de 1 à 5"
      ],
      "metadata": {
        "id": "9Uw6arlDGPgY"
      }
    },
    {
      "cell_type": "code",
      "source": [
        "listints= []\n",
        "for i in range(1,6):\n",
        "   #code à compléter\n",
        "   print(i)\n",
        "   listints.append(i)\n",
        "   \n",
        "\n",
        "\n",
        "print(listints) "
      ],
      "metadata": {
        "id": "KsJpDGBoGOQw",
        "colab": {
          "base_uri": "https://localhost:8080/"
        },
        "outputId": "56790566-e844-4bb5-eaf9-b40dab2f0544"
      },
      "execution_count": 99,
      "outputs": [
        {
          "output_type": "stream",
          "name": "stdout",
          "text": [
            "1\n",
            "2\n",
            "3\n",
            "4\n",
            "5\n",
            "[1, 2, 3, 4, 5]\n"
          ]
        }
      ]
    },
    {
      "cell_type": "code",
      "source": [
        "listints= []\n",
        "for i in range(5):\n",
        "   #code à compléter\n",
        "   print(i)\n",
        "   listints.append(i+1)\n",
        "   \n",
        "print(listints) "
      ],
      "metadata": {
        "colab": {
          "base_uri": "https://localhost:8080/"
        },
        "id": "zURtyMvuQ--B",
        "outputId": "659d3a8a-87e5-415d-f184-d6d9f965bd95"
      },
      "execution_count": 100,
      "outputs": [
        {
          "output_type": "stream",
          "name": "stdout",
          "text": [
            "0\n",
            "1\n",
            "2\n",
            "3\n",
            "4\n",
            "[1, 2, 3, 4, 5]\n"
          ]
        }
      ]
    },
    {
      "cell_type": "markdown",
      "source": [
        "Que fait ce code ?"
      ],
      "metadata": {
        "id": "50L44I4vGZMQ"
      }
    },
    {
      "cell_type": "code",
      "source": [
        "listints.reverse()\n",
        "print(listints)"
      ],
      "metadata": {
        "id": "Rnb2IsatGaDn",
        "colab": {
          "base_uri": "https://localhost:8080/"
        },
        "outputId": "e73c64d3-b3fe-4315-f8ed-fc4c2a07c716"
      },
      "execution_count": 101,
      "outputs": [
        {
          "output_type": "stream",
          "name": "stdout",
          "text": [
            "[5, 4, 3, 2, 1]\n"
          ]
        }
      ]
    },
    {
      "cell_type": "markdown",
      "source": [
        "Créez un programme tirant un nombre au hasard entre 1 et 20 et demandant à l’utilisateur de deviner ce nombre en lui indiquant si sa proposition est supérieure ou inférieure au nombre tiré.\n",
        "\n",
        "Exemple :\n",
        "\n",
        "Entrez un nombre : 7\n",
        "\n",
        "C'est plus\n",
        "\n",
        "Entrez un nombre : 13\n",
        "\n",
        "C'est moins\n",
        "\n",
        "Entrez un nombre : 10\n",
        "\n",
        "Gagné !\n"
      ],
      "metadata": {
        "id": "5j11Zfxd9wWi"
      }
    },
    {
      "cell_type": "code",
      "source": [
        "from random import randint\n",
        "n= randint(1,20)\n",
        "#print(\"le nb au hazard\",n) pour nous , commentaire \n",
        "test = False \n",
        "while test == False :\n",
        "    n_user= int(input(\"donner un entier \"))\n",
        "\n",
        "    if n_user < n :\n",
        "        print(\"le nombre est plus superieur\")\n",
        "    elif  n_user > n :\n",
        "        print(\"le nombre est plus inferieur\")\n",
        "    else :\n",
        "        print(\"bravo ! vous avez gagné \")\n",
        "        test =True\n",
        "print(\"fin de jeu\")"
      ],
      "metadata": {
        "id": "CSazTihiDHVA",
        "colab": {
          "base_uri": "https://localhost:8080/"
        },
        "outputId": "00c33c1b-a821-4840-8706-ba46d7319314"
      },
      "execution_count": 106,
      "outputs": [
        {
          "output_type": "stream",
          "name": "stdout",
          "text": [
            "donner un entier 6\n",
            "le nombre est plus superieur\n",
            "donner un entier 8\n",
            "le nombre est plus superieur\n",
            "donner un entier 10\n",
            "le nombre est plus superieur\n",
            "donner un entier 15\n",
            "le nombre est plus superieur\n",
            "donner un entier 19\n",
            "le nombre est plus superieur\n",
            "donner un entier 20\n",
            "bravo ! vous avez gagné \n",
            "fin de jeu\n"
          ]
        }
      ]
    },
    {
      "cell_type": "markdown",
      "source": [
        "Ecrire un programme qui permet de saisir et d'afficher les identifiants de N étudiants et leurs moyennes. N est le nombre d'étudiants choisi par l'utilisateur et qui doit etre positif.\n"
      ],
      "metadata": {
        "id": "NZhAku59HQJC"
      }
    },
    {
      "cell_type": "code",
      "source": [
        "\n",
        "\n"
      ],
      "metadata": {
        "id": "ezJ_w7Thnj4W"
      },
      "execution_count": null,
      "outputs": []
    },
    {
      "cell_type": "markdown",
      "source": [
        "Ajouter du code à l'exercice précédent pour pouvoir afficher l'identifiant de l'étudiant ayant la plus grande moyenne."
      ],
      "metadata": {
        "id": "lHpBUH-dnkCt"
      }
    },
    {
      "cell_type": "code",
      "source": [
        "\n"
      ],
      "metadata": {
        "id": "VZV73AmMnvnQ"
      },
      "execution_count": null,
      "outputs": []
    }
  ]
}